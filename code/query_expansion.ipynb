{
  "nbformat": 4,
  "nbformat_minor": 0,
  "metadata": {
    "colab": {
      "name": "query-expansion.ipynb",
      "provenance": [],
      "collapsed_sections": []
    },
    "kernelspec": {
      "name": "python3",
      "display_name": "Python 3"
    },
    "language_info": {
      "name": "python"
    }
  },
  "cells": [
    {
      "cell_type": "code",
      "execution_count": null,
      "metadata": {
        "id": "gZyVg0gvMueH"
      },
      "outputs": [],
      "source": [
        "from nltk.corpus import wordnet\n",
        "from nltk.stem import PorterStemmer\n",
        "def wordnet_query_expansion(query,k=3):\n",
        "    ps = PorterStemmer()\n",
        "    upd_query = query.split()\n",
        "    synonyms =[]\n",
        "    res=[w for w in upd_query]\n",
        "    for q in upd_query:\n",
        "        q_stem=ps.stem(q)\n",
        "        for syn in wordnet.synsets(q_stem):\n",
        "            for l in syn.lemmas():\n",
        "                synonyms.append(l.name())\n",
        "        synonyms=list(set(synonyms))\n",
        "        synonyms=synonyms[:k]\n",
        "        for w in synonyms:\n",
        "            w_stem=ps.stem(w)\n",
        "            if  w_stem!=q_stem:\n",
        "                  res.append(w)\n",
        "            synonyms=[]\n",
        "    return ' '.join(res)"
      ]
    }
  ]
}